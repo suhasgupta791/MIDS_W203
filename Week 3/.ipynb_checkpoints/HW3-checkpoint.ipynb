{
 "cells": [
  {
   "cell_type": "markdown",
   "metadata": {},
   "source": [
    "## Question 1 "
   ]
  },
  {
   "cell_type": "markdown",
   "metadata": {},
   "source": [
    "### (a)"
   ]
  },
  {
   "cell_type": "markdown",
   "metadata": {},
   "source": [
    "\n",
    "$$ Probability\\space of \\space requesting\\space regular\\space gas,\\space P(R) = 0.40 $$ \n",
    "$$ Probability\\space of \\space requesting\\space medium\\space gas,\\space P(M) = 0.35 $$\n",
    "$$ Probability\\space of \\space requesting\\space premium\\space gas,\\space P(P) = 0.25 $$ \n",
    "$$ $$\n",
    "$$ Probability\\space of\\space filling\\space up\\space when\\space requesting\\space regular\\space gas,\\space P(F|R) = 0.30 $$\n",
    "$$ Probability\\space of\\space filling\\space up\\space when\\space requesting\\space medium\\space gas,\\space P(F|M) = 0.60 $$\n",
    "$$ Probability\\space of\\space filling\\space up\\space when\\space requesting\\space premium\\space gas,\\space P(F|P) = 0.50 $$\n",
    "$$ $$\n",
    "\n",
    "$$ P(R \\cap F) = P(F|R) P(R) = 0.30*040 = 0.12 $$\n"
   ]
  },
  {
   "cell_type": "markdown",
   "metadata": {},
   "source": [
    "### (b)\n",
    "\n",
    "Filling up & requesting regular, medium or premium gas are indepedant events."
   ]
  },
  {
   "cell_type": "markdown",
   "metadata": {},
   "source": [
    "$$ P(F) = P(R \\cap F) + P(M \\cap F) + P(P \\cap F) = P(F|R)P(R) + P(F|M)P(M) + P(F|P)P(P) $$  \n",
    "$$ => P(F) = 0.30*0.40 + 0.60*0.35 + 0.50*0.25 = 0.455 $$  "
   ]
  },
  {
   "cell_type": "markdown",
   "metadata": {},
   "source": [
    "### (c)"
   ]
  },
  {
   "cell_type": "markdown",
   "metadata": {},
   "source": [
    "$$ P(R|F) = \\frac {P((R \\cap F)}{P(F)} $$  \n",
    "$$ => P(R|F) = \\frac {0.12}{0.455} = 0.263 $$  "
   ]
  },
  {
   "cell_type": "markdown",
   "metadata": {},
   "source": [
    "## Question 2"
   ]
  },
  {
   "cell_type": "markdown",
   "metadata": {},
   "source": [
    "$$ Probability\\space of\\space red,\\space P(R)= \\frac{1}{2} $$  \n",
    "$$ Probability\\space of\\space waterproof,\\space P(W)= \\frac{1}{2} $$  \n",
    "$$ Probability\\space of\\space cool,\\space P(C)= \\frac{1}{3} $$  \n",
    "$$ Probability\\space of\\space neither\\space R,\\space W\\space or\\space C,\\space !P(R \\cup W \\cup C)= \\frac{1}{6} $$\n",
    "$$ $$  \n",
    "$$ => Porbability\\ of\\ R\\ or\\ W\\ or\\ C\\ $$  \n",
    "$$ P(R \\cup W \\cup C) = 1 - \\frac{1}{6} $$  \n"
   ]
  },
  {
   "cell_type": "markdown",
   "metadata": {},
   "source": [
    "### (a)\n",
    "<center><img src = \"space_diag.png\"></center>"
   ]
  },
  {
   "cell_type": "markdown",
   "metadata": {},
   "source": [
    "### (b)"
   ]
  },
  {
   "cell_type": "markdown",
   "metadata": {},
   "source": [
    "$$ P(R \\cup W_p \\cup C) = P(R) + P(W_p) + P(C) - P(R \\cap W_p) - P(W_p \\cap C) - P(R \\cap C) + P(R \\cap W_p \\cap C) $$  \n",
    "$$ => \\frac{5}{6} = \\frac{1}{2} + \\frac{1}{2} + \\frac{1}{3} - \\frac{1}{4} - \\frac{1}{6} - \\frac{1}{6} + P(R \\cap W_p \\cap C) $$  \n",
    "$$ => P(R \\cap W_p \\cap C)  = \\frac{1}{12}$$  "
   ]
  },
  {
   "cell_type": "markdown",
   "metadata": {},
   "source": [
    "### (c) \n",
    "\n",
    "$$ P(C'|R) = 1 - P(C|R) $$\n",
    "\n",
    "$$ P(C|R) = \\frac{P(R \\cap C)}{P(R)}  = \\frac{1/6}{1/2} = \\frac{1}{3} $$ \n",
    "\n",
    "$$ P(C'|R) = 1-\\frac{1}{3} = \\frac{2}{3} $$"
   ]
  },
  {
   "cell_type": "markdown",
   "metadata": {},
   "source": [
    "### (d)\n",
    "\n",
    "$$ P(C | R \\cup W_p) = \\frac{P(C \\cap (R \\cup W_p)}{P(R \\cup W_p)} $$  \n",
    "\n",
    "$$ P(R \\cup W_p) = P(R) + P(W_p) - P(R \\cap W_p)  = \\frac{1}{2} + \\frac{1}{2} - \\frac{1}{4} =  \\frac{3}{4} $$  \n",
    "\n",
    "$$ P(C \\cup R \\cup W_p) = P(C) + P(R \\cup W_p)  - P(C \\cap (R \\cup W_p)) $$  \n",
    "\n",
    "$$ => P(C \\cap (R \\cup W_p)) = \\frac{5}{6} - (\\frac{1}{3} + \\frac{3}{4}) $$  \n",
    "\n",
    "$$ => P(C \\cap (R \\cup W_p)) = \\frac{1}{4} $$  \n",
    "\n",
    "$$ P(C | R \\cup W_p) = \\frac{\\frac{1}{4}}{\\frac{3}{4}} = \\frac{1}{3} $$\n"
   ]
  },
  {
   "cell_type": "markdown",
   "metadata": {},
   "source": [
    "## Question 3"
   ]
  },
  {
   "cell_type": "markdown",
   "metadata": {},
   "source": [
    "### (a)\n",
    "\n",
    "$$ P(A) = \\frac{1}{2} $$\n",
    "$$$$\n",
    "$$ P(B) = \\frac{2}{3} $$\n",
    "\n",
    "$$ P(A \\cup B) = P(A) + P(B) - P(A \\cap B) $$\n",
    "$$ $$\n",
    "\n",
    "<center> For minimum $ P(A \\cap B)$, assume events are mutually exclusive, i.e. $ P(A \\cap B) = 0 $ </center>\n",
    "$$ $$\n",
    "<center> Check if this is possible: </center>\n",
    "$$ $$\n",
    "$$ P(A \\cup B)_{disjoint} = P(A) + P(B) = \\frac{1}{2} + \\frac{2}{3} = \\frac{7}{6} > 1 $$ \n",
    "$$ $$ \n",
    "<center> => A and B cannot be mutually exclusive </center>\n",
    "$$ $$ \n",
    "$$ P(A \\cap B)_{min} = P(A \\cup B)_{disjoint} - P(A \\cup B)_{max} = \\frac{7}{6} - 1 $$\n",
    "$$ $$ \n",
    "$$ => P(A \\cap B)_{min} = \\frac{1}{6}$$\n",
    "$$ $$\n",
    "\n",
    "<center> Maximum P(A \\cap B) is achieved when the events are independent events. </center>\n",
    "\n",
    "$$ => P(A \\cap B)_{max} = P(A)P(B) = \\frac{1}{2} * \\frac{2}{3} = \\frac{1}{3}$$"
   ]
  },
  {
   "cell_type": "markdown",
   "metadata": {},
   "source": [
    "### (b)\n",
    "\n",
    "$$ P(A|B) = \\frac{P(A \\cap B)}{P(B)} $$\n",
    "\n",
    "$$ P(A|B)_{max} = \\frac{P(A \\cap B)_{max}}{P(B)} = \\frac{\\frac{1}{3}}{\\frac{2}{3}} = \\frac{1}{2}$$\n",
    "\n",
    "$$ $$\n",
    "\n",
    "$$ P(A|B)_{min} = \\frac{P(A \\cap B)_{min}}{P(B)} = \\frac{\\frac{1}{6}}{\\frac{2}{3}} = \\frac{1}{4}$$\n"
   ]
  },
  {
   "cell_type": "markdown",
   "metadata": {},
   "source": [
    "## Question 4"
   ]
  },
  {
   "cell_type": "markdown",
   "metadata": {},
   "source": [
    "\n",
    "$$ Let\\ probability\\ of\\ completing\\ statistics\\ = P(C)= \\frac{1}{100} $$  \n",
    "$$ Let\\ probability\\ of\\ liking\\ statistics\\  = P(L) $$  \n",
    "$$ P(L|C') = \\frac{1}{4} $$  \n",
    "$$ P(L|C) = \\frac{3}{4} $$  \n",
    "$$ P(C') = 1 - P(C)  = 1 - \\frac{1}{100} = \\frac{99}{100} $$  \n",
    "$$ P(C|L) = \\frac{P(L \\cap C)}{P(L)}  = \\frac{P(L|C)P(C)}{P(L)}$$  \n",
    "$$ P(L) = P(L|C)P(C) + P(L|C')P(C') = \\frac{3}{4}*\\frac{1}{100} +  \\frac{1}{4}*\\frac{99}{100} = 0.255 $$  "
   ]
  }
 ],
 "metadata": {
  "kernelspec": {
   "display_name": "R",
   "language": "R",
   "name": "ir"
  },
  "language_info": {
   "codemirror_mode": "r",
   "file_extension": ".r",
   "mimetype": "text/x-r-source",
   "name": "R",
   "pygments_lexer": "r",
   "version": "3.5.1"
  }
 },
 "nbformat": 4,
 "nbformat_minor": 2
}
